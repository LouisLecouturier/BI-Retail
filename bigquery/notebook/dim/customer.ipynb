{
 "cells": [
  {
   "cell_type": "code",
   "execution_count": 1,
   "metadata": {},
   "outputs": [],
   "source": [
    "import sys\n",
    "import os\n",
    "sys.path.append(os.path.abspath(os.path.join(os.getcwd(), \"..\", \"..\")))"
   ]
  },
  {
   "cell_type": "code",
   "execution_count": 2,
   "metadata": {},
   "outputs": [
    {
     "name": "stdout",
     "output_type": "stream",
     "text": [
      "Requirement already satisfied: google-cloud-bigquery in /Users/antoine/miniconda3/envs/AI/lib/python3.11/site-packages (3.27.0)\n",
      "Requirement already satisfied: google-api-core[grpc]<3.0.0dev,>=2.11.1 in /Users/antoine/miniconda3/envs/AI/lib/python3.11/site-packages (from google-cloud-bigquery) (2.23.0)\n",
      "Requirement already satisfied: google-auth<3.0.0dev,>=2.14.1 in /Users/antoine/miniconda3/envs/AI/lib/python3.11/site-packages (from google-cloud-bigquery) (2.23.2)\n",
      "Requirement already satisfied: google-cloud-core<3.0.0dev,>=2.4.1 in /Users/antoine/miniconda3/envs/AI/lib/python3.11/site-packages (from google-cloud-bigquery) (2.4.1)\n",
      "Requirement already satisfied: google-resumable-media<3.0dev,>=2.0.0 in /Users/antoine/miniconda3/envs/AI/lib/python3.11/site-packages (from google-cloud-bigquery) (2.7.2)\n",
      "Requirement already satisfied: packaging>=20.0.0 in /Users/antoine/miniconda3/envs/AI/lib/python3.11/site-packages (from google-cloud-bigquery) (23.1)\n",
      "Requirement already satisfied: python-dateutil<3.0dev,>=2.7.3 in /Users/antoine/miniconda3/envs/AI/lib/python3.11/site-packages (from google-cloud-bigquery) (2.8.2)\n",
      "Requirement already satisfied: requests<3.0.0dev,>=2.21.0 in /Users/antoine/miniconda3/envs/AI/lib/python3.11/site-packages (from google-cloud-bigquery) (2.32.3)\n",
      "Requirement already satisfied: googleapis-common-protos<2.0.dev0,>=1.56.2 in /Users/antoine/miniconda3/envs/AI/lib/python3.11/site-packages (from google-api-core[grpc]<3.0.0dev,>=2.11.1->google-cloud-bigquery) (1.66.0)\n",
      "Requirement already satisfied: protobuf!=3.20.0,!=3.20.1,!=4.21.0,!=4.21.1,!=4.21.2,!=4.21.3,!=4.21.4,!=4.21.5,<6.0.0.dev0,>=3.19.5 in /Users/antoine/miniconda3/envs/AI/lib/python3.11/site-packages (from google-api-core[grpc]<3.0.0dev,>=2.11.1->google-cloud-bigquery) (5.28.3)\n",
      "Requirement already satisfied: proto-plus<2.0.0dev,>=1.22.3 in /Users/antoine/miniconda3/envs/AI/lib/python3.11/site-packages (from google-api-core[grpc]<3.0.0dev,>=2.11.1->google-cloud-bigquery) (1.25.0)\n",
      "Requirement already satisfied: grpcio<2.0dev,>=1.33.2 in /Users/antoine/miniconda3/envs/AI/lib/python3.11/site-packages (from google-api-core[grpc]<3.0.0dev,>=2.11.1->google-cloud-bigquery) (1.68.0)\n",
      "Requirement already satisfied: grpcio-status<2.0.dev0,>=1.33.2 in /Users/antoine/miniconda3/envs/AI/lib/python3.11/site-packages (from google-api-core[grpc]<3.0.0dev,>=2.11.1->google-cloud-bigquery) (1.68.0)\n",
      "Requirement already satisfied: cachetools<6.0,>=2.0.0 in /Users/antoine/miniconda3/envs/AI/lib/python3.11/site-packages (from google-auth<3.0.0dev,>=2.14.1->google-cloud-bigquery) (5.3.1)\n",
      "Requirement already satisfied: pyasn1-modules>=0.2.1 in /Users/antoine/miniconda3/envs/AI/lib/python3.11/site-packages (from google-auth<3.0.0dev,>=2.14.1->google-cloud-bigquery) (0.3.0)\n",
      "Requirement already satisfied: rsa<5,>=3.1.4 in /Users/antoine/miniconda3/envs/AI/lib/python3.11/site-packages (from google-auth<3.0.0dev,>=2.14.1->google-cloud-bigquery) (4.9)\n",
      "Requirement already satisfied: google-crc32c<2.0dev,>=1.0 in /Users/antoine/miniconda3/envs/AI/lib/python3.11/site-packages (from google-resumable-media<3.0dev,>=2.0.0->google-cloud-bigquery) (1.6.0)\n",
      "Requirement already satisfied: six>=1.5 in /Users/antoine/miniconda3/envs/AI/lib/python3.11/site-packages (from python-dateutil<3.0dev,>=2.7.3->google-cloud-bigquery) (1.16.0)\n",
      "Requirement already satisfied: charset-normalizer<4,>=2 in /Users/antoine/miniconda3/envs/AI/lib/python3.11/site-packages (from requests<3.0.0dev,>=2.21.0->google-cloud-bigquery) (3.2.0)\n",
      "Requirement already satisfied: idna<4,>=2.5 in /Users/antoine/miniconda3/envs/AI/lib/python3.11/site-packages (from requests<3.0.0dev,>=2.21.0->google-cloud-bigquery) (3.4)\n",
      "Requirement already satisfied: urllib3<3,>=1.21.1 in /Users/antoine/miniconda3/envs/AI/lib/python3.11/site-packages (from requests<3.0.0dev,>=2.21.0->google-cloud-bigquery) (2.0.4)\n",
      "Requirement already satisfied: certifi>=2017.4.17 in /Users/antoine/miniconda3/envs/AI/lib/python3.11/site-packages (from requests<3.0.0dev,>=2.21.0->google-cloud-bigquery) (2023.7.22)\n",
      "Requirement already satisfied: pyasn1<0.6.0,>=0.4.6 in /Users/antoine/miniconda3/envs/AI/lib/python3.11/site-packages (from pyasn1-modules>=0.2.1->google-auth<3.0.0dev,>=2.14.1->google-cloud-bigquery) (0.5.0)\n",
      "Note: you may need to restart the kernel to use updated packages.\n",
      "Requirement already satisfied: pandas in /Users/antoine/miniconda3/envs/AI/lib/python3.11/site-packages (2.1.0)\n",
      "Requirement already satisfied: numpy>=1.23.2 in /Users/antoine/miniconda3/envs/AI/lib/python3.11/site-packages (from pandas) (1.26.0)\n",
      "Requirement already satisfied: python-dateutil>=2.8.2 in /Users/antoine/miniconda3/envs/AI/lib/python3.11/site-packages (from pandas) (2.8.2)\n",
      "Requirement already satisfied: pytz>=2020.1 in /Users/antoine/miniconda3/envs/AI/lib/python3.11/site-packages (from pandas) (2023.3.post1)\n",
      "Requirement already satisfied: tzdata>=2022.1 in /Users/antoine/miniconda3/envs/AI/lib/python3.11/site-packages (from pandas) (2023.3)\n",
      "Requirement already satisfied: six>=1.5 in /Users/antoine/miniconda3/envs/AI/lib/python3.11/site-packages (from python-dateutil>=2.8.2->pandas) (1.16.0)\n",
      "Note: you may need to restart the kernel to use updated packages.\n",
      "Requirement already satisfied: db-dtypes in /Users/antoine/miniconda3/envs/AI/lib/python3.11/site-packages (1.3.1)\n",
      "Requirement already satisfied: packaging>=17.0 in /Users/antoine/miniconda3/envs/AI/lib/python3.11/site-packages (from db-dtypes) (23.1)\n",
      "Requirement already satisfied: pandas>=0.24.2 in /Users/antoine/miniconda3/envs/AI/lib/python3.11/site-packages (from db-dtypes) (2.1.0)\n",
      "Requirement already satisfied: pyarrow>=3.0.0 in /Users/antoine/miniconda3/envs/AI/lib/python3.11/site-packages (from db-dtypes) (18.1.0)\n",
      "Requirement already satisfied: numpy>=1.16.6 in /Users/antoine/miniconda3/envs/AI/lib/python3.11/site-packages (from db-dtypes) (1.26.0)\n",
      "Requirement already satisfied: python-dateutil>=2.8.2 in /Users/antoine/miniconda3/envs/AI/lib/python3.11/site-packages (from pandas>=0.24.2->db-dtypes) (2.8.2)\n",
      "Requirement already satisfied: pytz>=2020.1 in /Users/antoine/miniconda3/envs/AI/lib/python3.11/site-packages (from pandas>=0.24.2->db-dtypes) (2023.3.post1)\n",
      "Requirement already satisfied: tzdata>=2022.1 in /Users/antoine/miniconda3/envs/AI/lib/python3.11/site-packages (from pandas>=0.24.2->db-dtypes) (2023.3)\n",
      "Requirement already satisfied: six>=1.5 in /Users/antoine/miniconda3/envs/AI/lib/python3.11/site-packages (from python-dateutil>=2.8.2->pandas>=0.24.2->db-dtypes) (1.16.0)\n",
      "Note: you may need to restart the kernel to use updated packages.\n"
     ]
    }
   ],
   "source": [
    "%pip install google-cloud-bigquery\n",
    "%pip install pandas\n",
    "%pip install db-dtypes"
   ]
  },
  {
   "cell_type": "code",
   "execution_count": 3,
   "metadata": {},
   "outputs": [],
   "source": [
    "from google.cloud import bigquery\n",
    "import pandas as pd\n",
    "\n",
    "from utils.import_table import import_table\n",
    "from utils.export import export_table"
   ]
  },
  {
   "cell_type": "code",
   "execution_count": 6,
   "metadata": {},
   "outputs": [],
   "source": [
    "# Initialiser le client BigQuery\n",
    "client = bigquery.Client.from_service_account_json('../../key.json')"
   ]
  },
  {
   "cell_type": "code",
   "execution_count": 7,
   "metadata": {},
   "outputs": [
    {
     "name": "stderr",
     "output_type": "stream",
     "text": [
      "/Users/antoine/miniconda3/envs/AI/lib/python3.11/site-packages/google/cloud/bigquery/table.py:1727: UserWarning: BigQuery Storage module not found, fetch data with the REST endpoint instead.\n",
      "  warnings.warn(\n"
     ]
    },
    {
     "data": {
      "text/html": [
       "<div>\n",
       "<style scoped>\n",
       "    .dataframe tbody tr th:only-of-type {\n",
       "        vertical-align: middle;\n",
       "    }\n",
       "\n",
       "    .dataframe tbody tr th {\n",
       "        vertical-align: top;\n",
       "    }\n",
       "\n",
       "    .dataframe thead th {\n",
       "        text-align: right;\n",
       "    }\n",
       "</style>\n",
       "<table border=\"1\" class=\"dataframe\">\n",
       "  <thead>\n",
       "    <tr style=\"text-align: right;\">\n",
       "      <th></th>\n",
       "      <th>id</th>\n",
       "      <th>lastname</th>\n",
       "      <th>firstname</th>\n",
       "      <th>datastream_metadata</th>\n",
       "    </tr>\n",
       "  </thead>\n",
       "  <tbody>\n",
       "    <tr>\n",
       "      <th>230</th>\n",
       "      <td>1</td>\n",
       "      <td>Hansen</td>\n",
       "      <td>Melinda</td>\n",
       "      <td>{'uuid': 'e80bd850-1d95-4acd-ba8f-88d410111100...</td>\n",
       "    </tr>\n",
       "    <tr>\n",
       "      <th>247</th>\n",
       "      <td>2</td>\n",
       "      <td>Douglas</td>\n",
       "      <td>Richard</td>\n",
       "      <td>{'uuid': 'e80bd850-1d95-4acd-ba8f-88d410111101...</td>\n",
       "    </tr>\n",
       "    <tr>\n",
       "      <th>90</th>\n",
       "      <td>3</td>\n",
       "      <td>Lane</td>\n",
       "      <td>Linda</td>\n",
       "      <td>{'uuid': 'e80bd850-1d95-4acd-ba8f-88d410111110...</td>\n",
       "    </tr>\n",
       "    <tr>\n",
       "      <th>98</th>\n",
       "      <td>4</td>\n",
       "      <td>Dorsey</td>\n",
       "      <td>Peter</td>\n",
       "      <td>{'uuid': 'e80bd850-1d95-4acd-ba8f-88d410111111...</td>\n",
       "    </tr>\n",
       "    <tr>\n",
       "      <th>25</th>\n",
       "      <td>5</td>\n",
       "      <td>Adams</td>\n",
       "      <td>Kyle</td>\n",
       "      <td>{'uuid': 'e80bd850-1d95-4acd-ba8f-88d411000000...</td>\n",
       "    </tr>\n",
       "    <tr>\n",
       "      <th>...</th>\n",
       "      <td>...</td>\n",
       "      <td>...</td>\n",
       "      <td>...</td>\n",
       "      <td>...</td>\n",
       "    </tr>\n",
       "    <tr>\n",
       "      <th>153</th>\n",
       "      <td>296</td>\n",
       "      <td>Rogers</td>\n",
       "      <td>Jasmin</td>\n",
       "      <td>{'uuid': '10978f52-daf2-4b77-a311-75b811100011...</td>\n",
       "    </tr>\n",
       "    <tr>\n",
       "      <th>272</th>\n",
       "      <td>297</td>\n",
       "      <td>Holmes</td>\n",
       "      <td>Kimberly</td>\n",
       "      <td>{'uuid': '10978f52-daf2-4b77-a311-75b811100100...</td>\n",
       "    </tr>\n",
       "    <tr>\n",
       "      <th>221</th>\n",
       "      <td>298</td>\n",
       "      <td>Gonzales</td>\n",
       "      <td>Kenneth</td>\n",
       "      <td>{'uuid': '10978f52-daf2-4b77-a311-75b811100101...</td>\n",
       "    </tr>\n",
       "    <tr>\n",
       "      <th>273</th>\n",
       "      <td>299</td>\n",
       "      <td>Cruz</td>\n",
       "      <td>Kimberly</td>\n",
       "      <td>{'uuid': '10978f52-daf2-4b77-a311-75b811100110...</td>\n",
       "    </tr>\n",
       "    <tr>\n",
       "      <th>146</th>\n",
       "      <td>300</td>\n",
       "      <td>Coleman</td>\n",
       "      <td>Dustin</td>\n",
       "      <td>{'uuid': '10978f52-daf2-4b77-a311-75b811100111...</td>\n",
       "    </tr>\n",
       "  </tbody>\n",
       "</table>\n",
       "<p>300 rows × 4 columns</p>\n",
       "</div>"
      ],
      "text/plain": [
       "      id  lastname firstname  \\\n",
       "230    1    Hansen   Melinda   \n",
       "247    2   Douglas   Richard   \n",
       "90     3      Lane     Linda   \n",
       "98     4    Dorsey     Peter   \n",
       "25     5     Adams      Kyle   \n",
       "..   ...       ...       ...   \n",
       "153  296    Rogers    Jasmin   \n",
       "272  297    Holmes  Kimberly   \n",
       "221  298  Gonzales   Kenneth   \n",
       "273  299      Cruz  Kimberly   \n",
       "146  300   Coleman    Dustin   \n",
       "\n",
       "                                   datastream_metadata  \n",
       "230  {'uuid': 'e80bd850-1d95-4acd-ba8f-88d410111100...  \n",
       "247  {'uuid': 'e80bd850-1d95-4acd-ba8f-88d410111101...  \n",
       "90   {'uuid': 'e80bd850-1d95-4acd-ba8f-88d410111110...  \n",
       "98   {'uuid': 'e80bd850-1d95-4acd-ba8f-88d410111111...  \n",
       "25   {'uuid': 'e80bd850-1d95-4acd-ba8f-88d411000000...  \n",
       "..                                                 ...  \n",
       "153  {'uuid': '10978f52-daf2-4b77-a311-75b811100011...  \n",
       "272  {'uuid': '10978f52-daf2-4b77-a311-75b811100100...  \n",
       "221  {'uuid': '10978f52-daf2-4b77-a311-75b811100101...  \n",
       "273  {'uuid': '10978f52-daf2-4b77-a311-75b811100110...  \n",
       "146  {'uuid': '10978f52-daf2-4b77-a311-75b811100111...  \n",
       "\n",
       "[300 rows x 4 columns]"
      ]
     },
     "metadata": {},
     "output_type": "display_data"
    }
   ],
   "source": [
    "customer = import_table(client, 'customer', dataset_id=\"ensemble_de_donnees_public\")\n",
    "\n",
    "customer = customer.drop(columns=['entity_id'])\n",
    "\n",
    "customer = customer.rename(columns={\n",
    "    'first_name': 'firstname',\n",
    "    'last_name': 'lastname',\n",
    "})\n",
    "\n",
    "customer = customer.sort_values(by=['id'])\n",
    "\n",
    "display(customer)"
   ]
  },
  {
   "cell_type": "code",
   "execution_count": 8,
   "metadata": {},
   "outputs": [
    {
     "name": "stdout",
     "output_type": "stream",
     "text": [
      "Dataset warehouse créé.\n"
     ]
    },
    {
     "name": "stderr",
     "output_type": "stream",
     "text": [
      "100%|██████████| 1/1 [00:00<00:00, 10305.42it/s]\n"
     ]
    }
   ],
   "source": [
    "# Variables pour BigQuery\n",
    "dataset_name = \"warehouse\"\n",
    "table_name = \"customer\"\n",
    "\n",
    "export_table(client=client, df=customer, dataset_name=dataset_name, table_name=table_name, project_id=\"power-bi-m2\")"
   ]
  }
 ],
 "metadata": {
  "kernelspec": {
   "display_name": "AI",
   "language": "python",
   "name": "python3"
  },
  "language_info": {
   "codemirror_mode": {
    "name": "ipython",
    "version": 3
   },
   "file_extension": ".py",
   "mimetype": "text/x-python",
   "name": "python",
   "nbconvert_exporter": "python",
   "pygments_lexer": "ipython3",
   "version": "3.11.5"
  }
 },
 "nbformat": 4,
 "nbformat_minor": 2
}
