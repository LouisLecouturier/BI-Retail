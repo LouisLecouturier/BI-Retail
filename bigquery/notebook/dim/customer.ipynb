{
 "cells": [
  {
   "cell_type": "code",
   "execution_count": null,
   "metadata": {},
   "outputs": [],
   "source": [
    "import sys\n",
    "import os\n",
    "sys.path.append(os.path.abspath(os.path.join(os.getcwd(), \"..\", \"..\")))"
   ]
  },
  {
   "cell_type": "code",
   "execution_count": 8,
   "metadata": {},
   "outputs": [
    {
     "name": "stdout",
     "output_type": "stream",
     "text": [
      "Requirement already satisfied: google-cloud-bigquery in /Users/antoine/miniconda3/envs/AI/lib/python3.11/site-packages (3.27.0)\n",
      "Requirement already satisfied: google-api-core[grpc]<3.0.0dev,>=2.11.1 in /Users/antoine/miniconda3/envs/AI/lib/python3.11/site-packages (from google-cloud-bigquery) (2.23.0)\n",
      "Requirement already satisfied: google-auth<3.0.0dev,>=2.14.1 in /Users/antoine/miniconda3/envs/AI/lib/python3.11/site-packages (from google-cloud-bigquery) (2.23.2)\n",
      "Requirement already satisfied: google-cloud-core<3.0.0dev,>=2.4.1 in /Users/antoine/miniconda3/envs/AI/lib/python3.11/site-packages (from google-cloud-bigquery) (2.4.1)\n",
      "Requirement already satisfied: google-resumable-media<3.0dev,>=2.0.0 in /Users/antoine/miniconda3/envs/AI/lib/python3.11/site-packages (from google-cloud-bigquery) (2.7.2)\n",
      "Requirement already satisfied: packaging>=20.0.0 in /Users/antoine/miniconda3/envs/AI/lib/python3.11/site-packages (from google-cloud-bigquery) (23.1)\n",
      "Requirement already satisfied: python-dateutil<3.0dev,>=2.7.3 in /Users/antoine/miniconda3/envs/AI/lib/python3.11/site-packages (from google-cloud-bigquery) (2.8.2)\n",
      "Requirement already satisfied: requests<3.0.0dev,>=2.21.0 in /Users/antoine/miniconda3/envs/AI/lib/python3.11/site-packages (from google-cloud-bigquery) (2.32.3)\n",
      "Requirement already satisfied: googleapis-common-protos<2.0.dev0,>=1.56.2 in /Users/antoine/miniconda3/envs/AI/lib/python3.11/site-packages (from google-api-core[grpc]<3.0.0dev,>=2.11.1->google-cloud-bigquery) (1.66.0)\n",
      "Requirement already satisfied: protobuf!=3.20.0,!=3.20.1,!=4.21.0,!=4.21.1,!=4.21.2,!=4.21.3,!=4.21.4,!=4.21.5,<6.0.0.dev0,>=3.19.5 in /Users/antoine/miniconda3/envs/AI/lib/python3.11/site-packages (from google-api-core[grpc]<3.0.0dev,>=2.11.1->google-cloud-bigquery) (5.28.3)\n",
      "Requirement already satisfied: proto-plus<2.0.0dev,>=1.22.3 in /Users/antoine/miniconda3/envs/AI/lib/python3.11/site-packages (from google-api-core[grpc]<3.0.0dev,>=2.11.1->google-cloud-bigquery) (1.25.0)\n",
      "Requirement already satisfied: grpcio<2.0dev,>=1.33.2 in /Users/antoine/miniconda3/envs/AI/lib/python3.11/site-packages (from google-api-core[grpc]<3.0.0dev,>=2.11.1->google-cloud-bigquery) (1.68.0)\n",
      "Requirement already satisfied: grpcio-status<2.0.dev0,>=1.33.2 in /Users/antoine/miniconda3/envs/AI/lib/python3.11/site-packages (from google-api-core[grpc]<3.0.0dev,>=2.11.1->google-cloud-bigquery) (1.68.0)\n",
      "Requirement already satisfied: cachetools<6.0,>=2.0.0 in /Users/antoine/miniconda3/envs/AI/lib/python3.11/site-packages (from google-auth<3.0.0dev,>=2.14.1->google-cloud-bigquery) (5.3.1)\n",
      "Requirement already satisfied: pyasn1-modules>=0.2.1 in /Users/antoine/miniconda3/envs/AI/lib/python3.11/site-packages (from google-auth<3.0.0dev,>=2.14.1->google-cloud-bigquery) (0.3.0)\n",
      "Requirement already satisfied: rsa<5,>=3.1.4 in /Users/antoine/miniconda3/envs/AI/lib/python3.11/site-packages (from google-auth<3.0.0dev,>=2.14.1->google-cloud-bigquery) (4.9)\n",
      "Requirement already satisfied: google-crc32c<2.0dev,>=1.0 in /Users/antoine/miniconda3/envs/AI/lib/python3.11/site-packages (from google-resumable-media<3.0dev,>=2.0.0->google-cloud-bigquery) (1.6.0)\n",
      "Requirement already satisfied: six>=1.5 in /Users/antoine/miniconda3/envs/AI/lib/python3.11/site-packages (from python-dateutil<3.0dev,>=2.7.3->google-cloud-bigquery) (1.16.0)\n",
      "Requirement already satisfied: charset-normalizer<4,>=2 in /Users/antoine/miniconda3/envs/AI/lib/python3.11/site-packages (from requests<3.0.0dev,>=2.21.0->google-cloud-bigquery) (3.2.0)\n",
      "Requirement already satisfied: idna<4,>=2.5 in /Users/antoine/miniconda3/envs/AI/lib/python3.11/site-packages (from requests<3.0.0dev,>=2.21.0->google-cloud-bigquery) (3.4)\n",
      "Requirement already satisfied: urllib3<3,>=1.21.1 in /Users/antoine/miniconda3/envs/AI/lib/python3.11/site-packages (from requests<3.0.0dev,>=2.21.0->google-cloud-bigquery) (2.0.4)\n",
      "Requirement already satisfied: certifi>=2017.4.17 in /Users/antoine/miniconda3/envs/AI/lib/python3.11/site-packages (from requests<3.0.0dev,>=2.21.0->google-cloud-bigquery) (2023.7.22)\n",
      "Requirement already satisfied: pyasn1<0.6.0,>=0.4.6 in /Users/antoine/miniconda3/envs/AI/lib/python3.11/site-packages (from pyasn1-modules>=0.2.1->google-auth<3.0.0dev,>=2.14.1->google-cloud-bigquery) (0.5.0)\n",
      "Note: you may need to restart the kernel to use updated packages.\n",
      "Requirement already satisfied: pandas in /Users/antoine/miniconda3/envs/AI/lib/python3.11/site-packages (2.1.0)\n",
      "Requirement already satisfied: numpy>=1.23.2 in /Users/antoine/miniconda3/envs/AI/lib/python3.11/site-packages (from pandas) (1.26.0)\n",
      "Requirement already satisfied: python-dateutil>=2.8.2 in /Users/antoine/miniconda3/envs/AI/lib/python3.11/site-packages (from pandas) (2.8.2)\n",
      "Requirement already satisfied: pytz>=2020.1 in /Users/antoine/miniconda3/envs/AI/lib/python3.11/site-packages (from pandas) (2023.3.post1)\n",
      "Requirement already satisfied: tzdata>=2022.1 in /Users/antoine/miniconda3/envs/AI/lib/python3.11/site-packages (from pandas) (2023.3)\n",
      "Requirement already satisfied: six>=1.5 in /Users/antoine/miniconda3/envs/AI/lib/python3.11/site-packages (from python-dateutil>=2.8.2->pandas) (1.16.0)\n",
      "Note: you may need to restart the kernel to use updated packages.\n",
      "Requirement already satisfied: db-dtypes in /Users/antoine/miniconda3/envs/AI/lib/python3.11/site-packages (1.3.1)\n",
      "Requirement already satisfied: packaging>=17.0 in /Users/antoine/miniconda3/envs/AI/lib/python3.11/site-packages (from db-dtypes) (23.1)\n",
      "Requirement already satisfied: pandas>=0.24.2 in /Users/antoine/miniconda3/envs/AI/lib/python3.11/site-packages (from db-dtypes) (2.1.0)\n",
      "Requirement already satisfied: pyarrow>=3.0.0 in /Users/antoine/miniconda3/envs/AI/lib/python3.11/site-packages (from db-dtypes) (18.1.0)\n",
      "Requirement already satisfied: numpy>=1.16.6 in /Users/antoine/miniconda3/envs/AI/lib/python3.11/site-packages (from db-dtypes) (1.26.0)\n",
      "Requirement already satisfied: python-dateutil>=2.8.2 in /Users/antoine/miniconda3/envs/AI/lib/python3.11/site-packages (from pandas>=0.24.2->db-dtypes) (2.8.2)\n",
      "Requirement already satisfied: pytz>=2020.1 in /Users/antoine/miniconda3/envs/AI/lib/python3.11/site-packages (from pandas>=0.24.2->db-dtypes) (2023.3.post1)\n",
      "Requirement already satisfied: tzdata>=2022.1 in /Users/antoine/miniconda3/envs/AI/lib/python3.11/site-packages (from pandas>=0.24.2->db-dtypes) (2023.3)\n",
      "Requirement already satisfied: six>=1.5 in /Users/antoine/miniconda3/envs/AI/lib/python3.11/site-packages (from python-dateutil>=2.8.2->pandas>=0.24.2->db-dtypes) (1.16.0)\n",
      "Note: you may need to restart the kernel to use updated packages.\n"
     ]
    }
   ],
   "source": [
    "%pip install google-cloud-bigquery\n",
    "%pip install pandas\n",
    "%pip install db-dtypes"
   ]
  },
  {
   "cell_type": "code",
   "execution_count": 9,
   "metadata": {},
   "outputs": [],
   "source": [
    "from google.cloud import bigquery\n",
    "import pandas as pd\n",
    "\n",
    "from utils.import_table import import_table\n",
    "from utils.export import export_table"
   ]
  },
  {
   "cell_type": "code",
   "execution_count": 10,
   "metadata": {},
   "outputs": [],
   "source": [
    "# Initialiser le client BigQuery\n",
    "client = bigquery.Client.from_service_account_json('key.json')"
   ]
  },
  {
   "cell_type": "code",
   "execution_count": 11,
   "metadata": {},
   "outputs": [
    {
     "name": "stderr",
     "output_type": "stream",
     "text": [
      "/Users/antoine/miniconda3/envs/AI/lib/python3.11/site-packages/google/cloud/bigquery/table.py:1727: UserWarning: BigQuery Storage module not found, fetch data with the REST endpoint instead.\n",
      "  warnings.warn(\n"
     ]
    },
    {
     "data": {
      "text/html": [
       "<div>\n",
       "<style scoped>\n",
       "    .dataframe tbody tr th:only-of-type {\n",
       "        vertical-align: middle;\n",
       "    }\n",
       "\n",
       "    .dataframe tbody tr th {\n",
       "        vertical-align: top;\n",
       "    }\n",
       "\n",
       "    .dataframe thead th {\n",
       "        text-align: right;\n",
       "    }\n",
       "</style>\n",
       "<table border=\"1\" class=\"dataframe\">\n",
       "  <thead>\n",
       "    <tr style=\"text-align: right;\">\n",
       "      <th></th>\n",
       "      <th>id</th>\n",
       "      <th>lastname</th>\n",
       "      <th>firstname</th>\n",
       "    </tr>\n",
       "  </thead>\n",
       "  <tbody>\n",
       "    <tr>\n",
       "      <th>86</th>\n",
       "      <td>1</td>\n",
       "      <td>Carroll</td>\n",
       "      <td>Jesse</td>\n",
       "    </tr>\n",
       "    <tr>\n",
       "      <th>278</th>\n",
       "      <td>2</td>\n",
       "      <td>Scott</td>\n",
       "      <td>Michelle</td>\n",
       "    </tr>\n",
       "    <tr>\n",
       "      <th>208</th>\n",
       "      <td>3</td>\n",
       "      <td>Davis</td>\n",
       "      <td>Deborah</td>\n",
       "    </tr>\n",
       "    <tr>\n",
       "      <th>73</th>\n",
       "      <td>4</td>\n",
       "      <td>Richardson</td>\n",
       "      <td>Grant</td>\n",
       "    </tr>\n",
       "    <tr>\n",
       "      <th>166</th>\n",
       "      <td>5</td>\n",
       "      <td>Suarez</td>\n",
       "      <td>Marcia</td>\n",
       "    </tr>\n",
       "    <tr>\n",
       "      <th>...</th>\n",
       "      <td>...</td>\n",
       "      <td>...</td>\n",
       "      <td>...</td>\n",
       "    </tr>\n",
       "    <tr>\n",
       "      <th>82</th>\n",
       "      <td>296</td>\n",
       "      <td>Brown</td>\n",
       "      <td>James</td>\n",
       "    </tr>\n",
       "    <tr>\n",
       "      <th>234</th>\n",
       "      <td>297</td>\n",
       "      <td>Gibbs</td>\n",
       "      <td>Matthew</td>\n",
       "    </tr>\n",
       "    <tr>\n",
       "      <th>118</th>\n",
       "      <td>298</td>\n",
       "      <td>Edwards</td>\n",
       "      <td>Tammy</td>\n",
       "    </tr>\n",
       "    <tr>\n",
       "      <th>174</th>\n",
       "      <td>299</td>\n",
       "      <td>Blake</td>\n",
       "      <td>Philip</td>\n",
       "    </tr>\n",
       "    <tr>\n",
       "      <th>285</th>\n",
       "      <td>300</td>\n",
       "      <td>Harris</td>\n",
       "      <td>Christina</td>\n",
       "    </tr>\n",
       "  </tbody>\n",
       "</table>\n",
       "<p>300 rows × 3 columns</p>\n",
       "</div>"
      ],
      "text/plain": [
       "      id    lastname  firstname\n",
       "86     1     Carroll      Jesse\n",
       "278    2       Scott   Michelle\n",
       "208    3       Davis    Deborah\n",
       "73     4  Richardson      Grant\n",
       "166    5      Suarez     Marcia\n",
       "..   ...         ...        ...\n",
       "82   296       Brown      James\n",
       "234  297       Gibbs    Matthew\n",
       "118  298     Edwards      Tammy\n",
       "174  299       Blake     Philip\n",
       "285  300      Harris  Christina\n",
       "\n",
       "[300 rows x 3 columns]"
      ]
     },
     "metadata": {},
     "output_type": "display_data"
    }
   ],
   "source": [
    "customer = import_table(client, 'Customer')\n",
    "\n",
    "customer = customer.drop(columns=['entity_id'])\n",
    "\n",
    "customer = customer.rename(columns={\n",
    "    'first_name': 'firstname',\n",
    "    'last_name': 'lastname',\n",
    "})\n",
    "\n",
    "customer = customer.sort_values(by=['id'])\n",
    "\n",
    "display(customer)"
   ]
  },
  {
   "cell_type": "code",
   "execution_count": 12,
   "metadata": {},
   "outputs": [
    {
     "name": "stdout",
     "output_type": "stream",
     "text": [
      "Dataset warehouse_test déjà existant.\n"
     ]
    },
    {
     "name": "stderr",
     "output_type": "stream",
     "text": [
      "100%|██████████| 1/1 [00:00<00:00, 9799.78it/s]\n"
     ]
    }
   ],
   "source": [
    "# Variables pour BigQuery\n",
    "dataset_name = \"warehouse_test\"\n",
    "table_name = \"customer\"\n",
    "\n",
    "export_table(client=client, df=customer, dataset_name=dataset_name, table_name=table_name, project_id=\"power-bi-m2\")"
   ]
  }
 ],
 "metadata": {
  "kernelspec": {
   "display_name": "AI",
   "language": "python",
   "name": "python3"
  },
  "language_info": {
   "codemirror_mode": {
    "name": "ipython",
    "version": 3
   },
   "file_extension": ".py",
   "mimetype": "text/x-python",
   "name": "python",
   "nbconvert_exporter": "python",
   "pygments_lexer": "ipython3",
   "version": "3.11.5"
  }
 },
 "nbformat": 4,
 "nbformat_minor": 2
}
