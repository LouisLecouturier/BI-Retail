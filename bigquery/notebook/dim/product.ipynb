{
    "cells": [
        {
            "cell_type": "code",
            "execution_count": null,
            "metadata": {},
            "outputs": [],
            "source": [
                "import sys\n",
                "import os\n",
                "sys.path.append(os.path.abspath(os.path.join(os.getcwd(), \"..\", \"..\")))\n",
                "\n"
            ]
        },
        {
            "cell_type": "code",
            "execution_count": 1,
            "metadata": {},
            "outputs": [
                {
                    "name": "stdout",
                    "output_type": "stream",
                    "text": [
                        "Requirement already satisfied: google-cloud-bigquery in /Users/antoine/miniconda3/envs/AI/lib/python3.11/site-packages (3.27.0)\n",
                        "Requirement already satisfied: google-api-core[grpc]<3.0.0dev,>=2.11.1 in /Users/antoine/miniconda3/envs/AI/lib/python3.11/site-packages (from google-cloud-bigquery) (2.23.0)\n",
                        "Requirement already satisfied: google-auth<3.0.0dev,>=2.14.1 in /Users/antoine/miniconda3/envs/AI/lib/python3.11/site-packages (from google-cloud-bigquery) (2.23.2)\n",
                        "Requirement already satisfied: google-cloud-core<3.0.0dev,>=2.4.1 in /Users/antoine/miniconda3/envs/AI/lib/python3.11/site-packages (from google-cloud-bigquery) (2.4.1)\n",
                        "Requirement already satisfied: google-resumable-media<3.0dev,>=2.0.0 in /Users/antoine/miniconda3/envs/AI/lib/python3.11/site-packages (from google-cloud-bigquery) (2.7.2)\n",
                        "Requirement already satisfied: packaging>=20.0.0 in /Users/antoine/miniconda3/envs/AI/lib/python3.11/site-packages (from google-cloud-bigquery) (23.1)\n",
                        "Requirement already satisfied: python-dateutil<3.0dev,>=2.7.3 in /Users/antoine/miniconda3/envs/AI/lib/python3.11/site-packages (from google-cloud-bigquery) (2.8.2)\n",
                        "Requirement already satisfied: requests<3.0.0dev,>=2.21.0 in /Users/antoine/miniconda3/envs/AI/lib/python3.11/site-packages (from google-cloud-bigquery) (2.31.0)\n",
                        "Requirement already satisfied: googleapis-common-protos<2.0.dev0,>=1.56.2 in /Users/antoine/miniconda3/envs/AI/lib/python3.11/site-packages (from google-api-core[grpc]<3.0.0dev,>=2.11.1->google-cloud-bigquery) (1.66.0)\n",
                        "Requirement already satisfied: protobuf!=3.20.0,!=3.20.1,!=4.21.0,!=4.21.1,!=4.21.2,!=4.21.3,!=4.21.4,!=4.21.5,<6.0.0.dev0,>=3.19.5 in /Users/antoine/miniconda3/envs/AI/lib/python3.11/site-packages (from google-api-core[grpc]<3.0.0dev,>=2.11.1->google-cloud-bigquery) (5.28.3)\n",
                        "Requirement already satisfied: proto-plus<2.0.0dev,>=1.22.3 in /Users/antoine/miniconda3/envs/AI/lib/python3.11/site-packages (from google-api-core[grpc]<3.0.0dev,>=2.11.1->google-cloud-bigquery) (1.25.0)\n",
                        "Requirement already satisfied: grpcio<2.0dev,>=1.33.2 in /Users/antoine/miniconda3/envs/AI/lib/python3.11/site-packages (from google-api-core[grpc]<3.0.0dev,>=2.11.1->google-cloud-bigquery) (1.68.0)\n",
                        "Requirement already satisfied: grpcio-status<2.0.dev0,>=1.33.2 in /Users/antoine/miniconda3/envs/AI/lib/python3.11/site-packages (from google-api-core[grpc]<3.0.0dev,>=2.11.1->google-cloud-bigquery) (1.68.0)\n",
                        "Requirement already satisfied: cachetools<6.0,>=2.0.0 in /Users/antoine/miniconda3/envs/AI/lib/python3.11/site-packages (from google-auth<3.0.0dev,>=2.14.1->google-cloud-bigquery) (5.3.1)\n",
                        "Requirement already satisfied: pyasn1-modules>=0.2.1 in /Users/antoine/miniconda3/envs/AI/lib/python3.11/site-packages (from google-auth<3.0.0dev,>=2.14.1->google-cloud-bigquery) (0.3.0)\n",
                        "Requirement already satisfied: rsa<5,>=3.1.4 in /Users/antoine/miniconda3/envs/AI/lib/python3.11/site-packages (from google-auth<3.0.0dev,>=2.14.1->google-cloud-bigquery) (4.9)\n",
                        "Requirement already satisfied: google-crc32c<2.0dev,>=1.0 in /Users/antoine/miniconda3/envs/AI/lib/python3.11/site-packages (from google-resumable-media<3.0dev,>=2.0.0->google-cloud-bigquery) (1.6.0)\n",
                        "Requirement already satisfied: six>=1.5 in /Users/antoine/miniconda3/envs/AI/lib/python3.11/site-packages (from python-dateutil<3.0dev,>=2.7.3->google-cloud-bigquery) (1.16.0)\n",
                        "Requirement already satisfied: charset-normalizer<4,>=2 in /Users/antoine/miniconda3/envs/AI/lib/python3.11/site-packages (from requests<3.0.0dev,>=2.21.0->google-cloud-bigquery) (3.2.0)\n",
                        "Requirement already satisfied: idna<4,>=2.5 in /Users/antoine/miniconda3/envs/AI/lib/python3.11/site-packages (from requests<3.0.0dev,>=2.21.0->google-cloud-bigquery) (3.4)\n",
                        "Requirement already satisfied: urllib3<3,>=1.21.1 in /Users/antoine/miniconda3/envs/AI/lib/python3.11/site-packages (from requests<3.0.0dev,>=2.21.0->google-cloud-bigquery) (2.0.4)\n",
                        "Requirement already satisfied: certifi>=2017.4.17 in /Users/antoine/miniconda3/envs/AI/lib/python3.11/site-packages (from requests<3.0.0dev,>=2.21.0->google-cloud-bigquery) (2023.7.22)\n",
                        "Requirement already satisfied: pyasn1<0.6.0,>=0.4.6 in /Users/antoine/miniconda3/envs/AI/lib/python3.11/site-packages (from pyasn1-modules>=0.2.1->google-auth<3.0.0dev,>=2.14.1->google-cloud-bigquery) (0.5.0)\n",
                        "Note: you may need to restart the kernel to use updated packages.\n",
                        "Requirement already satisfied: pandas in /Users/antoine/miniconda3/envs/AI/lib/python3.11/site-packages (2.1.0)\n",
                        "Requirement already satisfied: numpy>=1.23.2 in /Users/antoine/miniconda3/envs/AI/lib/python3.11/site-packages (from pandas) (1.26.0)\n",
                        "Requirement already satisfied: python-dateutil>=2.8.2 in /Users/antoine/miniconda3/envs/AI/lib/python3.11/site-packages (from pandas) (2.8.2)\n",
                        "Requirement already satisfied: pytz>=2020.1 in /Users/antoine/miniconda3/envs/AI/lib/python3.11/site-packages (from pandas) (2023.3.post1)\n",
                        "Requirement already satisfied: tzdata>=2022.1 in /Users/antoine/miniconda3/envs/AI/lib/python3.11/site-packages (from pandas) (2023.3)\n",
                        "Requirement already satisfied: six>=1.5 in /Users/antoine/miniconda3/envs/AI/lib/python3.11/site-packages (from python-dateutil>=2.8.2->pandas) (1.16.0)\n",
                        "Note: you may need to restart the kernel to use updated packages.\n",
                        "Requirement already satisfied: db-dtypes in /Users/antoine/miniconda3/envs/AI/lib/python3.11/site-packages (1.3.1)\n",
                        "Requirement already satisfied: packaging>=17.0 in /Users/antoine/miniconda3/envs/AI/lib/python3.11/site-packages (from db-dtypes) (23.1)\n",
                        "Requirement already satisfied: pandas>=0.24.2 in /Users/antoine/miniconda3/envs/AI/lib/python3.11/site-packages (from db-dtypes) (2.1.0)\n",
                        "Requirement already satisfied: pyarrow>=3.0.0 in /Users/antoine/miniconda3/envs/AI/lib/python3.11/site-packages (from db-dtypes) (18.1.0)\n",
                        "Requirement already satisfied: numpy>=1.16.6 in /Users/antoine/miniconda3/envs/AI/lib/python3.11/site-packages (from db-dtypes) (1.26.0)\n",
                        "Requirement already satisfied: python-dateutil>=2.8.2 in /Users/antoine/miniconda3/envs/AI/lib/python3.11/site-packages (from pandas>=0.24.2->db-dtypes) (2.8.2)\n",
                        "Requirement already satisfied: pytz>=2020.1 in /Users/antoine/miniconda3/envs/AI/lib/python3.11/site-packages (from pandas>=0.24.2->db-dtypes) (2023.3.post1)\n",
                        "Requirement already satisfied: tzdata>=2022.1 in /Users/antoine/miniconda3/envs/AI/lib/python3.11/site-packages (from pandas>=0.24.2->db-dtypes) (2023.3)\n",
                        "Requirement already satisfied: six>=1.5 in /Users/antoine/miniconda3/envs/AI/lib/python3.11/site-packages (from python-dateutil>=2.8.2->pandas>=0.24.2->db-dtypes) (1.16.0)\n",
                        "Note: you may need to restart the kernel to use updated packages.\n"
                    ]
                }
            ],
            "source": [
                "%pip install google-cloud-bigquery\n",
                "%pip install pandas\n",
                "%pip install db-dtypes"
            ]
        },
        {
            "cell_type": "code",
            "execution_count": 2,
            "metadata": {},
            "outputs": [],
            "source": [
                "from google.cloud import bigquery\n",
                "import pandas as pd\n",
                "\n",
                "from utils.import_table import import_table\n",
                "from utils.export import export_table\n",
                "\n"
            ]
        },
        {
            "cell_type": "code",
            "execution_count": 3,
            "metadata": {},
            "outputs": [],
            "source": [
                "# Initialiser le client BigQuery\n",
                "client = bigquery.Client.from_service_account_json('../../key.json')"
            ]
        },
        {
            "cell_type": "code",
            "execution_count": 4,
            "metadata": {},
            "outputs": [
                {
                    "name": "stderr",
                    "output_type": "stream",
                    "text": [
                        "/Users/antoine/miniconda3/envs/AI/lib/python3.11/site-packages/google/cloud/bigquery/table.py:1727: UserWarning: BigQuery Storage module not found, fetch data with the REST endpoint instead.\n",
                        "  warnings.warn(\n"
                    ]
                },
                {
                    "data": {
                        "text/html": [
                            "<div>\n",
                            "<style scoped>\n",
                            "    .dataframe tbody tr th:only-of-type {\n",
                            "        vertical-align: middle;\n",
                            "    }\n",
                            "\n",
                            "    .dataframe tbody tr th {\n",
                            "        vertical-align: top;\n",
                            "    }\n",
                            "\n",
                            "    .dataframe thead th {\n",
                            "        text-align: right;\n",
                            "    }\n",
                            "</style>\n",
                            "<table border=\"1\" class=\"dataframe\">\n",
                            "  <thead>\n",
                            "    <tr style=\"text-align: right;\">\n",
                            "      <th></th>\n",
                            "      <th>id</th>\n",
                            "      <th>name</th>\n",
                            "      <th>brand</th>\n",
                            "    </tr>\n",
                            "  </thead>\n",
                            "  <tbody>\n",
                            "    <tr>\n",
                            "      <th>0</th>\n",
                            "      <td>8</td>\n",
                            "      <td>may</td>\n",
                            "      <td>Hermes</td>\n",
                            "    </tr>\n",
                            "    <tr>\n",
                            "      <th>1</th>\n",
                            "      <td>24</td>\n",
                            "      <td>develop</td>\n",
                            "      <td>Hermes</td>\n",
                            "    </tr>\n",
                            "    <tr>\n",
                            "      <th>2</th>\n",
                            "      <td>48</td>\n",
                            "      <td>create</td>\n",
                            "      <td>Hermes</td>\n",
                            "    </tr>\n",
                            "    <tr>\n",
                            "      <th>3</th>\n",
                            "      <td>50</td>\n",
                            "      <td>skin</td>\n",
                            "      <td>Hermes</td>\n",
                            "    </tr>\n",
                            "    <tr>\n",
                            "      <th>4</th>\n",
                            "      <td>60</td>\n",
                            "      <td>rise</td>\n",
                            "      <td>Hermes</td>\n",
                            "    </tr>\n",
                            "    <tr>\n",
                            "      <th>...</th>\n",
                            "      <td>...</td>\n",
                            "      <td>...</td>\n",
                            "      <td>...</td>\n",
                            "    </tr>\n",
                            "    <tr>\n",
                            "      <th>195</th>\n",
                            "      <td>149</td>\n",
                            "      <td>dinner</td>\n",
                            "      <td>Jean Paul Gaultier</td>\n",
                            "    </tr>\n",
                            "    <tr>\n",
                            "      <th>196</th>\n",
                            "      <td>150</td>\n",
                            "      <td>term</td>\n",
                            "      <td>Jean Paul Gaultier</td>\n",
                            "    </tr>\n",
                            "    <tr>\n",
                            "      <th>197</th>\n",
                            "      <td>155</td>\n",
                            "      <td>leg</td>\n",
                            "      <td>Jean Paul Gaultier</td>\n",
                            "    </tr>\n",
                            "    <tr>\n",
                            "      <th>198</th>\n",
                            "      <td>175</td>\n",
                            "      <td>hope</td>\n",
                            "      <td>Jean Paul Gaultier</td>\n",
                            "    </tr>\n",
                            "    <tr>\n",
                            "      <th>199</th>\n",
                            "      <td>178</td>\n",
                            "      <td>admit</td>\n",
                            "      <td>Jean Paul Gaultier</td>\n",
                            "    </tr>\n",
                            "  </tbody>\n",
                            "</table>\n",
                            "<p>200 rows × 3 columns</p>\n",
                            "</div>"
                        ],
                        "text/plain": [
                            "      id     name               brand\n",
                            "0      8      may              Hermes\n",
                            "1     24  develop              Hermes\n",
                            "2     48   create              Hermes\n",
                            "3     50     skin              Hermes\n",
                            "4     60     rise              Hermes\n",
                            "..   ...      ...                 ...\n",
                            "195  149   dinner  Jean Paul Gaultier\n",
                            "196  150     term  Jean Paul Gaultier\n",
                            "197  155      leg  Jean Paul Gaultier\n",
                            "198  175     hope  Jean Paul Gaultier\n",
                            "199  178    admit  Jean Paul Gaultier\n",
                            "\n",
                            "[200 rows x 3 columns]"
                        ]
                    },
                    "metadata": {},
                    "output_type": "display_data"
                }
            ],
            "source": [
                "product = import_table(client, 'Product')\n",
                "brand = import_table(client, 'Brand')\n",
                "\n",
                "products_merged = pd.merge(product, brand, left_on='brand_id', right_on='id')\n",
                "\n",
                "products_merged = products_merged.drop(columns=['brand_id', 'id_y']).rename(columns={'name_y': 'brand', 'id_x': 'id', 'name_x': 'name'})\n",
                "\n",
                "display(products_merged)"
            ]
        },
        {
            "cell_type": "code",
            "execution_count": 5,
            "metadata": {},
            "outputs": [
                {
                    "name": "stdout",
                    "output_type": "stream",
                    "text": [
                        "Dataset warehouse_test créé.\n"
                    ]
                }
            ],
            "source": [
                "# Variables pour BigQuery\n",
                "dataset_name = \"warehouse_test\"\n",
                "table_name = \"product\"\n",
                "\n",
                "export_table(client, products_merged, dataset_name, table_name)"
            ]
        }
    ],
    "metadata": {
        "kernelspec": {
            "display_name": "AI",
            "language": "python",
            "name": "python3"
        },
        "language_info": {
            "codemirror_mode": {
                "name": "ipython",
                "version": 3
            },
            "file_extension": ".py",
            "mimetype": "text/x-python",
            "name": "python",
            "nbconvert_exporter": "python",
            "pygments_lexer": "ipython3",
            "version": "3.11.5"
        }
    },
    "nbformat": 4,
    "nbformat_minor": 2
}
