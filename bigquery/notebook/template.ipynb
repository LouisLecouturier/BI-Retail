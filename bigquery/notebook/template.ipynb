{
 "cells": [../../key.json
  {
   "cell_type": "code",
   "execution_count": null,
   "metadata": {},
   "outputs": [],
   "source": [
    "import sys\n",
    "import os\n",
    "sys.path.append(os.path.abspath(os.path.join(os.getcwd(), \"..\", \"..\")))"
   ]
  },
  {
   "cell_type": "code",
   "execution_count": 1,
   "metadata": {},
   "outputs": [
    {
     "name": "stdout",
     "output_type": "stream",
     "text": [
      "Requirement already satisfied: google-cloud-bigquery in /Users/antoine/miniconda3/envs/AI/lib/python3.11/site-packages (3.27.0)\n",
      "Requirement already satisfied: google-api-core[grpc]<3.0.0dev,>=2.11.1 in /Users/antoine/miniconda3/envs/AI/lib/python3.11/site-packages (from google-cloud-bigquery) (2.23.0)\n",
      "Requirement already satisfied: google-auth<3.0.0dev,>=2.14.1 in /Users/antoine/miniconda3/envs/AI/lib/python3.11/site-packages (from google-cloud-bigquery) (2.23.2)\n",
      "Requirement already satisfied: google-cloud-core<3.0.0dev,>=2.4.1 in /Users/antoine/miniconda3/envs/AI/lib/python3.11/site-packages (from google-cloud-bigquery) (2.4.1)\n",
      "Requirement already satisfied: google-resumable-media<3.0dev,>=2.0.0 in /Users/antoine/miniconda3/envs/AI/lib/python3.11/site-packages (from google-cloud-bigquery) (2.7.2)\n",
      "Requirement already satisfied: packaging>=20.0.0 in /Users/antoine/miniconda3/envs/AI/lib/python3.11/site-packages (from google-cloud-bigquery) (23.1)\n",
      "Requirement already satisfied: python-dateutil<3.0dev,>=2.7.3 in /Users/antoine/miniconda3/envs/AI/lib/python3.11/site-packages (from google-cloud-bigquery) (2.8.2)\n",
      "Requirement already satisfied: requests<3.0.0dev,>=2.21.0 in /Users/antoine/miniconda3/envs/AI/lib/python3.11/site-packages (from google-cloud-bigquery) (2.31.0)\n",
      "Requirement already satisfied: googleapis-common-protos<2.0.dev0,>=1.56.2 in /Users/antoine/miniconda3/envs/AI/lib/python3.11/site-packages (from google-api-core[grpc]<3.0.0dev,>=2.11.1->google-cloud-bigquery) (1.66.0)\n",
      "Requirement already satisfied: protobuf!=3.20.0,!=3.20.1,!=4.21.0,!=4.21.1,!=4.21.2,!=4.21.3,!=4.21.4,!=4.21.5,<6.0.0.dev0,>=3.19.5 in /Users/antoine/miniconda3/envs/AI/lib/python3.11/site-packages (from google-api-core[grpc]<3.0.0dev,>=2.11.1->google-cloud-bigquery) (5.28.3)\n",
      "Requirement already satisfied: proto-plus<2.0.0dev,>=1.22.3 in /Users/antoine/miniconda3/envs/AI/lib/python3.11/site-packages (from google-api-core[grpc]<3.0.0dev,>=2.11.1->google-cloud-bigquery) (1.25.0)\n",
      "Requirement already satisfied: grpcio<2.0dev,>=1.33.2 in /Users/antoine/miniconda3/envs/AI/lib/python3.11/site-packages (from google-api-core[grpc]<3.0.0dev,>=2.11.1->google-cloud-bigquery) (1.68.0)\n",
      "Requirement already satisfied: grpcio-status<2.0.dev0,>=1.33.2 in /Users/antoine/miniconda3/envs/AI/lib/python3.11/site-packages (from google-api-core[grpc]<3.0.0dev,>=2.11.1->google-cloud-bigquery) (1.68.0)\n",
      "Requirement already satisfied: cachetools<6.0,>=2.0.0 in /Users/antoine/miniconda3/envs/AI/lib/python3.11/site-packages (from google-auth<3.0.0dev,>=2.14.1->google-cloud-bigquery) (5.3.1)\n",
      "Requirement already satisfied: pyasn1-modules>=0.2.1 in /Users/antoine/miniconda3/envs/AI/lib/python3.11/site-packages (from google-auth<3.0.0dev,>=2.14.1->google-cloud-bigquery) (0.3.0)\n",
      "Requirement already satisfied: rsa<5,>=3.1.4 in /Users/antoine/miniconda3/envs/AI/lib/python3.11/site-packages (from google-auth<3.0.0dev,>=2.14.1->google-cloud-bigquery) (4.9)\n",
      "Requirement already satisfied: google-crc32c<2.0dev,>=1.0 in /Users/antoine/miniconda3/envs/AI/lib/python3.11/site-packages (from google-resumable-media<3.0dev,>=2.0.0->google-cloud-bigquery) (1.6.0)\n",
      "Requirement already satisfied: six>=1.5 in /Users/antoine/miniconda3/envs/AI/lib/python3.11/site-packages (from python-dateutil<3.0dev,>=2.7.3->google-cloud-bigquery) (1.16.0)\n",
      "Requirement already satisfied: charset-normalizer<4,>=2 in /Users/antoine/miniconda3/envs/AI/lib/python3.11/site-packages (from requests<3.0.0dev,>=2.21.0->google-cloud-bigquery) (3.2.0)\n",
      "Requirement already satisfied: idna<4,>=2.5 in /Users/antoine/miniconda3/envs/AI/lib/python3.11/site-packages (from requests<3.0.0dev,>=2.21.0->google-cloud-bigquery) (3.4)\n",
      "Requirement already satisfied: urllib3<3,>=1.21.1 in /Users/antoine/miniconda3/envs/AI/lib/python3.11/site-packages (from requests<3.0.0dev,>=2.21.0->google-cloud-bigquery) (2.0.4)\n",
      "Requirement already satisfied: certifi>=2017.4.17 in /Users/antoine/miniconda3/envs/AI/lib/python3.11/site-packages (from requests<3.0.0dev,>=2.21.0->google-cloud-bigquery) (2023.7.22)\n",
      "Requirement already satisfied: pyasn1<0.6.0,>=0.4.6 in /Users/antoine/miniconda3/envs/AI/lib/python3.11/site-packages (from pyasn1-modules>=0.2.1->google-auth<3.0.0dev,>=2.14.1->google-cloud-bigquery) (0.5.0)\n",
      "Note: you may need to restart the kernel to use updated packages.\n",
      "Requirement already satisfied: pandas in /Users/antoine/miniconda3/envs/AI/lib/python3.11/site-packages (2.1.0)\n",
      "Requirement already satisfied: numpy>=1.23.2 in /Users/antoine/miniconda3/envs/AI/lib/python3.11/site-packages (from pandas) (1.26.0)\n",
      "Requirement already satisfied: python-dateutil>=2.8.2 in /Users/antoine/miniconda3/envs/AI/lib/python3.11/site-packages (from pandas) (2.8.2)\n",
      "Requirement already satisfied: pytz>=2020.1 in /Users/antoine/miniconda3/envs/AI/lib/python3.11/site-packages (from pandas) (2023.3.post1)\n",
      "Requirement already satisfied: tzdata>=2022.1 in /Users/antoine/miniconda3/envs/AI/lib/python3.11/site-packages (from pandas) (2023.3)\n",
      "Requirement already satisfied: six>=1.5 in /Users/antoine/miniconda3/envs/AI/lib/python3.11/site-packages (from python-dateutil>=2.8.2->pandas) (1.16.0)\n",
      "Note: you may need to restart the kernel to use updated packages.\n",
      "Requirement already satisfied: db-dtypes in /Users/antoine/miniconda3/envs/AI/lib/python3.11/site-packages (1.3.1)\n",
      "Requirement already satisfied: packaging>=17.0 in /Users/antoine/miniconda3/envs/AI/lib/python3.11/site-packages (from db-dtypes) (23.1)\n",
      "Requirement already satisfied: pandas>=0.24.2 in /Users/antoine/miniconda3/envs/AI/lib/python3.11/site-packages (from db-dtypes) (2.1.0)\n",
      "Requirement already satisfied: pyarrow>=3.0.0 in /Users/antoine/miniconda3/envs/AI/lib/python3.11/site-packages (from db-dtypes) (18.1.0)\n",
      "Requirement already satisfied: numpy>=1.16.6 in /Users/antoine/miniconda3/envs/AI/lib/python3.11/site-packages (from db-dtypes) (1.26.0)\n",
      "Requirement already satisfied: python-dateutil>=2.8.2 in /Users/antoine/miniconda3/envs/AI/lib/python3.11/site-packages (from pandas>=0.24.2->db-dtypes) (2.8.2)\n",
      "Requirement already satisfied: pytz>=2020.1 in /Users/antoine/miniconda3/envs/AI/lib/python3.11/site-packages (from pandas>=0.24.2->db-dtypes) (2023.3.post1)\n",
      "Requirement already satisfied: tzdata>=2022.1 in /Users/antoine/miniconda3/envs/AI/lib/python3.11/site-packages (from pandas>=0.24.2->db-dtypes) (2023.3)\n",
      "Requirement already satisfied: six>=1.5 in /Users/antoine/miniconda3/envs/AI/lib/python3.11/site-packages (from python-dateutil>=2.8.2->pandas>=0.24.2->db-dtypes) (1.16.0)\n",
      "Note: you may need to restart the kernel to use updated packages.\n",
      "Requirement already satisfied: pandas-gbq in /Users/antoine/miniconda3/envs/AI/lib/python3.11/site-packages (0.24.0)\n",
      "Requirement already satisfied: setuptools in /Users/antoine/miniconda3/envs/AI/lib/python3.11/site-packages (from pandas-gbq) (68.0.0)\n",
      "Requirement already satisfied: db-dtypes<2.0.0,>=1.0.4 in /Users/antoine/miniconda3/envs/AI/lib/python3.11/site-packages (from pandas-gbq) (1.3.1)\n",
      "Requirement already satisfied: numpy>=1.18.1 in /Users/antoine/miniconda3/envs/AI/lib/python3.11/site-packages (from pandas-gbq) (1.26.0)\n",
      "Requirement already satisfied: pandas>=1.1.4 in /Users/antoine/miniconda3/envs/AI/lib/python3.11/site-packages (from pandas-gbq) (2.1.0)\n",
      "Requirement already satisfied: pyarrow>=4.0.0 in /Users/antoine/miniconda3/envs/AI/lib/python3.11/site-packages (from pandas-gbq) (18.1.0)\n",
      "Requirement already satisfied: pydata-google-auth>=1.5.0 in /Users/antoine/miniconda3/envs/AI/lib/python3.11/site-packages (from pandas-gbq) (1.9.0)\n",
      "Requirement already satisfied: google-api-core<3.0.0dev,>=2.10.2 in /Users/antoine/miniconda3/envs/AI/lib/python3.11/site-packages (from pandas-gbq) (2.23.0)\n",
      "Requirement already satisfied: google-auth>=2.13.0 in /Users/antoine/miniconda3/envs/AI/lib/python3.11/site-packages (from pandas-gbq) (2.23.2)\n",
      "Requirement already satisfied: google-auth-oauthlib>=0.7.0 in /Users/antoine/miniconda3/envs/AI/lib/python3.11/site-packages (from pandas-gbq) (1.0.0)\n",
      "Requirement already satisfied: google-cloud-bigquery<4.0.0dev,>=3.4.2 in /Users/antoine/miniconda3/envs/AI/lib/python3.11/site-packages (from pandas-gbq) (3.27.0)\n",
      "Requirement already satisfied: packaging>=22.0.0 in /Users/antoine/miniconda3/envs/AI/lib/python3.11/site-packages (from pandas-gbq) (23.1)\n",
      "Requirement already satisfied: googleapis-common-protos<2.0.dev0,>=1.56.2 in /Users/antoine/miniconda3/envs/AI/lib/python3.11/site-packages (from google-api-core<3.0.0dev,>=2.10.2->pandas-gbq) (1.66.0)\n",
      "Requirement already satisfied: protobuf!=3.20.0,!=3.20.1,!=4.21.0,!=4.21.1,!=4.21.2,!=4.21.3,!=4.21.4,!=4.21.5,<6.0.0.dev0,>=3.19.5 in /Users/antoine/miniconda3/envs/AI/lib/python3.11/site-packages (from google-api-core<3.0.0dev,>=2.10.2->pandas-gbq) (5.28.3)\n",
      "Requirement already satisfied: proto-plus<2.0.0dev,>=1.22.3 in /Users/antoine/miniconda3/envs/AI/lib/python3.11/site-packages (from google-api-core<3.0.0dev,>=2.10.2->pandas-gbq) (1.25.0)\n",
      "Requirement already satisfied: requests<3.0.0.dev0,>=2.18.0 in /Users/antoine/miniconda3/envs/AI/lib/python3.11/site-packages (from google-api-core<3.0.0dev,>=2.10.2->pandas-gbq) (2.31.0)\n",
      "Requirement already satisfied: cachetools<6.0,>=2.0.0 in /Users/antoine/miniconda3/envs/AI/lib/python3.11/site-packages (from google-auth>=2.13.0->pandas-gbq) (5.3.1)\n",
      "Requirement already satisfied: pyasn1-modules>=0.2.1 in /Users/antoine/miniconda3/envs/AI/lib/python3.11/site-packages (from google-auth>=2.13.0->pandas-gbq) (0.3.0)\n",
      "Requirement already satisfied: rsa<5,>=3.1.4 in /Users/antoine/miniconda3/envs/AI/lib/python3.11/site-packages (from google-auth>=2.13.0->pandas-gbq) (4.9)\n",
      "Requirement already satisfied: requests-oauthlib>=0.7.0 in /Users/antoine/miniconda3/envs/AI/lib/python3.11/site-packages (from google-auth-oauthlib>=0.7.0->pandas-gbq) (1.3.1)\n",
      "Requirement already satisfied: google-cloud-core<3.0.0dev,>=2.4.1 in /Users/antoine/miniconda3/envs/AI/lib/python3.11/site-packages (from google-cloud-bigquery<4.0.0dev,>=3.4.2->pandas-gbq) (2.4.1)\n",
      "Requirement already satisfied: google-resumable-media<3.0dev,>=2.0.0 in /Users/antoine/miniconda3/envs/AI/lib/python3.11/site-packages (from google-cloud-bigquery<4.0.0dev,>=3.4.2->pandas-gbq) (2.7.2)\n",
      "Requirement already satisfied: python-dateutil<3.0dev,>=2.7.3 in /Users/antoine/miniconda3/envs/AI/lib/python3.11/site-packages (from google-cloud-bigquery<4.0.0dev,>=3.4.2->pandas-gbq) (2.8.2)\n",
      "Requirement already satisfied: pytz>=2020.1 in /Users/antoine/miniconda3/envs/AI/lib/python3.11/site-packages (from pandas>=1.1.4->pandas-gbq) (2023.3.post1)\n",
      "Requirement already satisfied: tzdata>=2022.1 in /Users/antoine/miniconda3/envs/AI/lib/python3.11/site-packages (from pandas>=1.1.4->pandas-gbq) (2023.3)\n",
      "Requirement already satisfied: grpcio<2.0dev,>=1.33.2 in /Users/antoine/miniconda3/envs/AI/lib/python3.11/site-packages (from google-api-core<3.0.0dev,>=2.10.2->pandas-gbq) (1.68.0)\n",
      "Requirement already satisfied: grpcio-status<2.0.dev0,>=1.33.2 in /Users/antoine/miniconda3/envs/AI/lib/python3.11/site-packages (from google-api-core<3.0.0dev,>=2.10.2->pandas-gbq) (1.68.0)\n",
      "Requirement already satisfied: google-crc32c<2.0dev,>=1.0 in /Users/antoine/miniconda3/envs/AI/lib/python3.11/site-packages (from google-resumable-media<3.0dev,>=2.0.0->google-cloud-bigquery<4.0.0dev,>=3.4.2->pandas-gbq) (1.6.0)\n",
      "Requirement already satisfied: pyasn1<0.6.0,>=0.4.6 in /Users/antoine/miniconda3/envs/AI/lib/python3.11/site-packages (from pyasn1-modules>=0.2.1->google-auth>=2.13.0->pandas-gbq) (0.5.0)\n",
      "Requirement already satisfied: six>=1.5 in /Users/antoine/miniconda3/envs/AI/lib/python3.11/site-packages (from python-dateutil<3.0dev,>=2.7.3->google-cloud-bigquery<4.0.0dev,>=3.4.2->pandas-gbq) (1.16.0)\n",
      "Requirement already satisfied: charset-normalizer<4,>=2 in /Users/antoine/miniconda3/envs/AI/lib/python3.11/site-packages (from requests<3.0.0.dev0,>=2.18.0->google-api-core<3.0.0dev,>=2.10.2->pandas-gbq) (3.2.0)\n",
      "Requirement already satisfied: idna<4,>=2.5 in /Users/antoine/miniconda3/envs/AI/lib/python3.11/site-packages (from requests<3.0.0.dev0,>=2.18.0->google-api-core<3.0.0dev,>=2.10.2->pandas-gbq) (3.4)\n",
      "Requirement already satisfied: urllib3<3,>=1.21.1 in /Users/antoine/miniconda3/envs/AI/lib/python3.11/site-packages (from requests<3.0.0.dev0,>=2.18.0->google-api-core<3.0.0dev,>=2.10.2->pandas-gbq) (2.0.4)\n",
      "Requirement already satisfied: certifi>=2017.4.17 in /Users/antoine/miniconda3/envs/AI/lib/python3.11/site-packages (from requests<3.0.0.dev0,>=2.18.0->google-api-core<3.0.0dev,>=2.10.2->pandas-gbq) (2023.7.22)\n",
      "Requirement already satisfied: oauthlib>=3.0.0 in /Users/antoine/miniconda3/envs/AI/lib/python3.11/site-packages (from requests-oauthlib>=0.7.0->google-auth-oauthlib>=0.7.0->pandas-gbq) (3.2.2)\n",
      "Note: you may need to restart the kernel to use updated packages.\n"
     ]
    }
   ],
   "source": [
    "%pip install google-cloud-bigquery\n",
    "%pip install pandas\n",
    "%pip install db-dtypes\n",
    "%pip install pandas-gbq"
   ]
  },
  {
   "cell_type": "code",
   "execution_count": 2,
   "metadata": {},
   "outputs": [],
   "source": [
    "from google.cloud import bigquery\n",
    "import pandas as pd\n",
    "\n",
    "from utils.import_table import import_table\n",
    "from utils.export import export_table\n"
   ]
  },
  {
   "cell_type": "code",
   "execution_count": null,
   "metadata": {},
   "outputs": [],
   "source": [
    "# Initialiser le client BigQuery\n",
    "client = bigquery.Client.from_service_account_json('../../key.json')"
   ]
  },
  {
   "cell_type": "code",
   "execution_count": null,
   "metadata": {},
   "outputs": [],
   "source": [
    "table = import_table(client, '') # Remplir le nom de la table à importer\n",
    "display(table.head())"
   ]
  },
  {
   "cell_type": "code",
   "execution_count": null,
   "metadata": {},
   "outputs": [],
   "source": [
    "# Variables pour BigQuery\n",
    "dataset_name = \"warehouse_test\" # Nom du dataset à créer/exporter\n",
    "table_name = \"\" # Nom de la table à créer\n",
    "\n",
    "df = pd.DataFrame()"
   ]
  },
  {
   "cell_type": "code",
   "execution_count": null,
   "metadata": {},
   "outputs": [],
   "source": [
    "export_table(client, df, dataset_name, table_name)"
   ]
  }
 ],
 "metadata": {
  "kernelspec": {
   "display_name": "AI",
   "language": "python",
   "name": "python3"
  },
  "language_info": {
   "codemirror_mode": {
    "name": "ipython",
    "version": 3
   },
   "file_extension": ".py",
   "mimetype": "text/x-python",
   "name": "python",
   "nbconvert_exporter": "python",
   "pygments_lexer": "ipython3",
   "version": "3.11.5"
  }
 },
 "nbformat": 4,
 "nbformat_minor": 2
}
